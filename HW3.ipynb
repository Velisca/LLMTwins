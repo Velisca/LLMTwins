{
  "nbformat": 4,
  "nbformat_minor": 0,
  "metadata": {
    "colab": {
      "provenance": [],
      "authorship_tag": "ABX9TyMWclRYemmquk631ccFRBZs",
      "include_colab_link": true
    },
    "kernelspec": {
      "name": "python3",
      "display_name": "Python 3"
    },
    "language_info": {
      "name": "python"
    }
  },
  "cells": [
    {
      "cell_type": "markdown",
      "metadata": {
        "id": "view-in-github",
        "colab_type": "text"
      },
      "source": [
        "<a href=\"https://colab.research.google.com/github/Velisca/LLMTwins/blob/main/HW3.ipynb\" target=\"_parent\"><img src=\"https://colab.research.google.com/assets/colab-badge.svg\" alt=\"Open In Colab\"/></a>"
      ]
    },
    {
      "cell_type": "code",
      "execution_count": 1,
      "metadata": {
        "id": "fsDuePhatCmb"
      },
      "outputs": [],
      "source": [
        "import random\n",
        "\n",
        "# Simulated function to get weather data\n",
        "def get_weather_from_opendata(location):\n",
        "    # Simulated temperature and humidity values\n",
        "    return random.randint(20, 30), random.randint(50, 70)"
      ]
    },
    {
      "cell_type": "code",
      "source": [
        "# Simulated air conditioner control function\n",
        "def air_conditioner_control(input_temperature):\n",
        "    if input_temperature > 26:\n",
        "        return \"開啟冷氣機\"\n",
        "    else:\n",
        "        return \"關閉冷氣機\""
      ],
      "metadata": {
        "id": "PXfsGvVitHhR"
      },
      "execution_count": 2,
      "outputs": []
    },
    {
      "cell_type": "code",
      "source": [
        "# Simulated dehumidifier control function\n",
        "def dehumidifier_control(input_humidity):\n",
        "    if input_humidity > 60:\n",
        "        return \"開啟除濕機\"\n",
        "    else:\n",
        "        return \"關閉除濕機\""
      ],
      "metadata": {
        "id": "oc9s2Dl2tJ2w"
      },
      "execution_count": 3,
      "outputs": []
    },
    {
      "cell_type": "code",
      "source": [
        "# Simulated callback function\n",
        "def callbacks(msg, value):\n",
        "    if \"溫度\" in msg:\n",
        "        return air_conditioner_control(value)\n",
        "    elif \"濕度\" in msg:\n",
        "        return dehumidifier_control(value)\n",
        "    else:\n",
        "        return \"No suitable action was found based on the response.\""
      ],
      "metadata": {
        "id": "vNWrUBlCtPdF"
      },
      "execution_count": 8,
      "outputs": []
    },
    {
      "cell_type": "code",
      "source": [
        "# Test the functions\n",
        "location = \"C0I110\"  # Station ID\n",
        "temperature, humidity = get_weather_from_opendata(location)\n",
        "msg = f\"現在的溫度是 {temperature}°C\"\n",
        "print(callbacks(msg, temperature))\n",
        "msg = f\"現在的濕度是 {humidity}%\"\n",
        "print(callbacks(msg, humidity))"
      ],
      "metadata": {
        "colab": {
          "base_uri": "https://localhost:8080/"
        },
        "id": "IrV5u6xptUI0",
        "outputId": "4f6fb92a-876d-4893-e43b-0e65ad46e9ec"
      },
      "execution_count": 9,
      "outputs": [
        {
          "output_type": "stream",
          "name": "stdout",
          "text": [
            "關閉冷氣機\n",
            "開啟除濕機\n"
          ]
        }
      ]
    },
    {
      "cell_type": "markdown",
      "source": [
        "Using External API"
      ],
      "metadata": {
        "id": "l48W__HitltS"
      }
    },
    {
      "cell_type": "code",
      "source": [
        "import requests\n",
        "import random"
      ],
      "metadata": {
        "id": "mUfyQI_atoz_"
      },
      "execution_count": 7,
      "outputs": []
    },
    {
      "cell_type": "code",
      "source": [
        "# Function to get weather data from an external API\n",
        "def get_weather_from_external_api(location):\n",
        "    api_key = \"Yhf_rcOIkPFINTOVOVLDpEgYYsaOKPHGmmOcvw\"\n",
        "    url = f\"https://opendata.cwa.gov.tw/api/v1/rest/datastore/O-A0001-001?Authorization={api_key}&format=JSON&StationId={location}&WeatherElement=AirTemperature,RelativeHumidity\"\n",
        "\n",
        "    response = requests.get(url)\n",
        "\n",
        "    if response.status_code == 200:\n",
        "        data = response.json()\n",
        "        if data['success'] == 'true' and 'records' in data:\n",
        "            station_data = data['records']['Station'][0]\n",
        "            weather_elements = station_data['WeatherElement']\n",
        "            air_temperature = weather_elements['AirTemperature']\n",
        "            relative_humidity = weather_elements['RelativeHumidity']\n",
        "            return int(air_temperature), int(relative_humidity)\n",
        "\n",
        "    return random.randint(20, 30), random.randint(50, 70)  # Return simulated values if API call fails\n"
      ],
      "metadata": {
        "id": "h3LHtOIbttQn"
      },
      "execution_count": 10,
      "outputs": []
    },
    {
      "cell_type": "code",
      "source": [
        "# Simulated air conditioner control function\n",
        "def air_conditioner_control(input_temperature):\n",
        "    if input_temperature > 26:\n",
        "        return \"開啟冷氣機\"\n",
        "    else:\n",
        "        return \"關閉冷氣機\""
      ],
      "metadata": {
        "id": "_aC4ebbRt03K"
      },
      "execution_count": 11,
      "outputs": []
    },
    {
      "cell_type": "code",
      "source": [
        "# Simulated dehumidifier control function\n",
        "def dehumidifier_control(input_humidity):\n",
        "    if input_humidity > 60:\n",
        "        return \"開啟除濕機\"\n",
        "    else:\n",
        "        return \"關閉除濕機\""
      ],
      "metadata": {
        "id": "BCU9eMmGt1QW"
      },
      "execution_count": 12,
      "outputs": []
    },
    {
      "cell_type": "code",
      "source": [
        "# Simulated callback function\n",
        "def callbacks(msg, value):\n",
        "    if \"溫度\" in msg:\n",
        "        return air_conditioner_control(value)\n",
        "    elif \"濕度\" in msg:\n",
        "        return dehumidifier_control(value)\n",
        "    else:\n",
        "        return \"No suitable action was found based on the response.\""
      ],
      "metadata": {
        "id": "NgKkI0H8t3Oe"
      },
      "execution_count": 13,
      "outputs": []
    },
    {
      "cell_type": "code",
      "source": [
        "# Test the functions with external API call\n",
        "location = \"C0I110\"  # Station ID\n",
        "temperature, humidity = get_weather_from_external_api(location)\n",
        "msg = f\"現在的溫度是 {temperature}°C\"\n",
        "print(callbacks(msg, temperature))\n",
        "msg = f\"現在的濕度是 {humidity}%\"\n",
        "print(callbacks(msg, humidity))"
      ],
      "metadata": {
        "colab": {
          "base_uri": "https://localhost:8080/"
        },
        "id": "L2mb9WQWtvut",
        "outputId": "0cd2bfea-7845-46d9-8bc7-c0d70fda67e3"
      },
      "execution_count": 14,
      "outputs": [
        {
          "output_type": "stream",
          "name": "stdout",
          "text": [
            "關閉冷氣機\n",
            "開啟除濕機\n"
          ]
        }
      ]
    }
  ]
}